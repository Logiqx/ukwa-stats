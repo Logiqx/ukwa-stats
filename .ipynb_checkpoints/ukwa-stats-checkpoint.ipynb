{
 "cells": [
  {
   "cell_type": "markdown",
   "metadata": {},
   "source": [
    "## Import Libraries"
   ]
  },
  {
   "cell_type": "code",
   "execution_count": 605,
   "metadata": {
    "collapsed": false
   },
   "outputs": [],
   "source": [
    "# The library Beautiful Soup will be used for the HTML parsing\n",
    "from bs4 import BeautifulSoup\n",
    "\n",
    "# General libraries\n",
    "import os"
   ]
  },
  {
   "cell_type": "markdown",
   "metadata": {},
   "source": [
    "## Rankings class  - Handles single HTML document"
   ]
  },
  {
   "cell_type": "code",
   "execution_count": 606,
   "metadata": {
    "collapsed": false
   },
   "outputs": [],
   "source": [
    "class Rankings:\n",
    "    \"\"\"A simple class to parse rankings\"\"\"\n",
    "    \n",
    "    def __init__(self, year, html_fn, helmNames):\n",
    "        self.year = year\n",
    "        self.html_fn = html_fn\n",
    "        self.helmNames = helmNames\n",
    "\n",
    "        self.stats = {}\n",
    "\n",
    "        self.parse()\n",
    "        self.processTables()\n",
    "        \n",
    "    def parse(self):\n",
    "        with open(os.path.join(self.year, self.html_fn), \"r\") as f:\n",
    "            self.html = f.read()\n",
    "        self.soup = BeautifulSoup(self.html, \"html.parser\")\n",
    "        \n",
    "    def processTables(self):\n",
    "        summaryTitles = self.soup.find_all(\"h3\", \"summarytitle\")\n",
    "        summaryTables = self.soup.find_all(\"table\", \"summarytable\")\n",
    "        index = 0\n",
    "        for summaryTable in summaryTables:\n",
    "            table = Table(summaryTitles[index].string, summaryTable, self.helmNames, self.stats)\n",
    "            index += 1\n",
    "            \n",
    "    def outputStats(self, stats_fn):\n",
    "        with open(os.path.join(self.year, stats_fn), \"w\") as f:\n",
    "            for eventName in self.stats.keys():\n",
    "                event = self.stats[eventName]\n",
    "                event.outputStats(f)    "
   ]
  },
  {
   "cell_type": "markdown",
   "metadata": {},
   "source": [
    "## Table class  - Handles single HTML table"
   ]
  },
  {
   "cell_type": "code",
   "execution_count": 607,
   "metadata": {
    "collapsed": false
   },
   "outputs": [],
   "source": [
    "class Table:\n",
    "    \"\"\"A simple class to parse HTML table\"\"\"\n",
    "    \n",
    "    def __init__(self, title, table, helmNames, stats):\n",
    "        self.title = title\n",
    "        self.table = table\n",
    "        self.helmNames = helmNames\n",
    "        self.stats = stats\n",
    "        \n",
    "        self.process()\n",
    "        \n",
    "    def process(self):\n",
    "        self.processHeadings()\n",
    "        self.storeColumnIndices()\n",
    "        self.storeEvents()\n",
    "        self.generateStats()\n",
    "    \n",
    "    def processHeadings(self):\n",
    "        self.colClasses = []\n",
    "        cols = self.table.find_all(\"col\")\n",
    "        for col in cols:\n",
    "            self.colClasses.append(col[\"class\"][0])\n",
    "\n",
    "        self.colHeaders = []\n",
    "        cols = self.table.find_all(\"th\")\n",
    "        for col in cols:\n",
    "            self.colHeaders.append(col.string)\n",
    "        \n",
    "    def storeColumnIndices(self):\n",
    "        self.rankIdx = self.colClasses.index(\"rank\")\n",
    "        self.fleetIdx = self.colClasses.index(\"fleet\")\n",
    "        self.helmNameIdx = self.colClasses.index(\"helmname\")\n",
    "        self.helmAgeIdx = self.colClasses.index(\"helmagegroup\")\n",
    "        try:\n",
    "            self.helmSexIdx = self.colClasses.index(\"helmsex\")\n",
    "        except:\n",
    "            self.helmSexIdx = None\n",
    "        \n",
    "    def storeEvents(self):\n",
    "        self.eventNames = []\n",
    "        self.eventIdx = {}\n",
    "        for i in range(len(self.colClasses)):\n",
    "            if self.colClasses[i] == \"race\":\n",
    "                eventName = self.colHeaders[i]\n",
    "                self.eventNames.append(eventName)\n",
    "                self.eventIdx[eventName] = i\n",
    "                \n",
    "                if not self.stats.has_key(eventName):\n",
    "                    event = Event(eventName, self.helmNames)\n",
    "                    self.stats[eventName] = event\n",
    "        \n",
    "    def generateStats(self):\n",
    "        rows = self.table.tbody.find_all(\"tr\")\n",
    "        for row in rows:\n",
    "            # Helm name\n",
    "            children = row.findChildren(\"td\")\n",
    "            helmName = children[self.helmNameIdx].string\n",
    "            \n",
    "            # Helm ages to be reported are as follows - 'U17', 'U20', 'M', 'V\n",
    "            helmAge = row.findChildren(\"td\")[self.helmAgeIdx].string\n",
    "            # Kids have YOB between 2000 and 2010 rather than a U17 code\n",
    "            if len(helmAge) == 4 and helmAge[:2] == '20':\n",
    "                helmAge = 'U17'\n",
    "            # Super veterans will be grouped with Veterans\n",
    "            if helmAge == 'SV':\n",
    "                helmAge = 'V'\n",
    "            # Default\n",
    "            if helmAge not in ('U17', 'U20', 'M', 'V'):\n",
    "                helmAge = None\n",
    "\n",
    "            # Helm sex is not always known (e.g. Inland rankings)\n",
    "            if self.helmSexIdx is not None:\n",
    "                helmSex = row.findChildren(\"td\")[self.helmSexIdx].string\n",
    "                # Receboard fleet have lightweight (LW) and heavyweight (HW) for men\n",
    "                if helmSex in ('LW', 'HW'):\n",
    "                    helmSex = 'M'\n",
    "                # Unknown sex\n",
    "                if helmSex not in ('M', 'F'):\n",
    "                    helmSex = 'U'\n",
    "            else:\n",
    "                # Unknown sex\n",
    "                helmSex = 'U'\n",
    "            \n",
    "            # Process all events for the competitor\n",
    "            for eventName in self.eventNames:\n",
    "                eventIdx = self.eventIdx[eventName]\n",
    "                result = children[eventIdx].string\n",
    "                result = result.strip('()')\n",
    "\n",
    "                if result.find('DNC') >= 0:\n",
    "                    result = None\n",
    "                elif result.find('ABS') >= 0:\n",
    "                    result = None\n",
    "                elif result.find('ATT') >= 0:\n",
    "                    result = 999.9\n",
    "                elif result.find('RDG') >= 0:\n",
    "                    result = 999.9\n",
    "                    \n",
    "                if result is not None:\n",
    "                    self.stats[eventName].addAttendee(helmName, helmAge, helmSex)\n",
    "                \n",
    "    def outputStats(self):\n",
    "        for eventName in self.eventNames:\n",
    "            event = self.stats[eventName]\n",
    "            event.outputStats()"
   ]
  },
  {
   "cell_type": "markdown",
   "metadata": {},
   "source": [
    "## Event class - Keeps count of competitors at a single event / venue"
   ]
  },
  {
   "cell_type": "code",
   "execution_count": 608,
   "metadata": {
    "collapsed": false
   },
   "outputs": [],
   "source": [
    "class Event:\n",
    "    \"\"\"A simple class to represent a single event / race\"\"\"\n",
    "    \n",
    "    def __init__(self, title, helmNames):\n",
    "        self.title = title\n",
    "        self.helmNames = helmNames\n",
    "        \n",
    "        self.competitors = 0\n",
    "        self.newcomers = 0\n",
    "        self.males = 0\n",
    "        self.females = 0\n",
    "        self.unknowns = 0\n",
    "        self.u17s = 0\n",
    "        self.u20s = 0\n",
    "        self.masters = 0\n",
    "        self.veterans = 0\n",
    "        \n",
    "    def addAttendee(self, helmName, helmAge, helmSex):\n",
    "\n",
    "        self.competitors += 1\n",
    "        \n",
    "        if self.helmNames.count(helmName) == 0:\n",
    "            self.helmNames.append(helmName)\n",
    "            self.newcomers += 1\n",
    "            \n",
    "        if helmSex == 'M':\n",
    "            self.males += 1\n",
    "        elif helmSex == 'F':\n",
    "            self.females += 1\n",
    "        elif helmSex == 'U':\n",
    "            self.unknowns += 1\n",
    "        \n",
    "        if helmAge == 'U17':\n",
    "            self.u17s += 1\n",
    "        elif helmAge == 'U20':\n",
    "            self.u20s += 1\n",
    "        elif helmAge == 'M':\n",
    "            self.masters += 1\n",
    "        elif helmAge == 'V':\n",
    "            self.veterans += 1\n",
    "            \n",
    "    def outputStats(self, f):\n",
    "        f.write('Venue\\t' + self.title + '\\n')\n",
    "        f.write('Total Competitors\\t' + str(self.competitors) + '\\n')\n",
    "        f.write('Newcomers\\t' + str(self.newcomers) + '\\n')\n",
    "        if self.males > self.unknowns:\n",
    "            f.write('No of Males\\t' + str(self.males) + '\\n')\n",
    "            f.write('No of Females\\t' + str(self.females) + '\\n')\n",
    "        else:\n",
    "            f.write('No of Males\\t?' + '\\n')\n",
    "            f.write('No of Females\\t?' + '\\n')\n",
    "        f.write('Under 17\\t' + str(self.u17s) + '\\n')\n",
    "        f.write('Under 20\\t' + str(self.u20s) + '\\n')\n",
    "        f.write('Master\\t' + str(self.masters) + '\\n')\n",
    "        f.write('Veteran\\t' + str(self.veterans) + '\\n')\n",
    "        f.write('\\n')\n"
   ]
  },
  {
   "cell_type": "markdown",
   "metadata": {},
   "source": [
    "## Inland Events Summary"
   ]
  },
  {
   "cell_type": "code",
   "execution_count": 609,
   "metadata": {
    "collapsed": false
   },
   "outputs": [],
   "source": [
    "fn = \"inland-rankings.htm\"\n",
    "helmNames = []\n",
    "\n",
    "rankings = Rankings(\"2015\", fn, helmNames)\n",
    "rankings = Rankings(\"2016\", fn, helmNames)\n",
    "rankings = Rankings(\"2017\", fn, helmNames)\n",
    "rankings = Rankings(\"2018\", fn, helmNames)\n",
    "\n",
    "rankings.outputStats(\"inland-summary.csv\")"
   ]
  },
  {
   "cell_type": "markdown",
   "metadata": {},
   "source": [
    "## Cup Events Summary"
   ]
  },
  {
   "cell_type": "code",
   "execution_count": 610,
   "metadata": {
    "collapsed": false
   },
   "outputs": [],
   "source": [
    "fn = \"nat-champs-ranking.htm\"\n",
    "helmNames = []\n",
    "\n",
    "rankings = Rankings(\"2015\", fn, helmNames)\n",
    "rankings = Rankings(\"2016\", fn, helmNames)\n",
    "rankings = Rankings(\"2017\", fn, helmNames)\n",
    "rankings = Rankings(\"2018\", fn, helmNames)\n",
    "\n",
    "rankings.outputStats(\"nat-champs-summary.csv\")"
   ]
  },
  {
   "cell_type": "markdown",
   "metadata": {},
   "source": [
    "## Slalom Events Summary"
   ]
  },
  {
   "cell_type": "code",
   "execution_count": 611,
   "metadata": {
    "collapsed": false
   },
   "outputs": [],
   "source": [
    "fn = \"slalom-rankings.htm\"\n",
    "helmNames = []\n",
    "\n",
    "rankings = Rankings(\"2015\", fn, helmNames)\n",
    "rankings = Rankings(\"2016\", fn, helmNames)\n",
    "rankings = Rankings(\"2017\", fn, helmNames)\n",
    "rankings = Rankings(\"2018\", fn, helmNames)\n",
    "\n",
    "rankings.outputStats(\"slalom-summary.csv\")"
   ]
  }
 ],
 "metadata": {
  "kernelspec": {
   "display_name": "Python 2",
   "language": "python",
   "name": "python2"
  },
  "language_info": {
   "codemirror_mode": {
    "name": "ipython",
    "version": 2
   },
   "file_extension": ".py",
   "mimetype": "text/x-python",
   "name": "python",
   "nbconvert_exporter": "python",
   "pygments_lexer": "ipython2",
   "version": "2.7.11"
  }
 },
 "nbformat": 4,
 "nbformat_minor": 0
}
